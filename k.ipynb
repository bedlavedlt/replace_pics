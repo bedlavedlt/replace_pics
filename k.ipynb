{
 "cells": [
  {
   "cell_type": "code",
   "execution_count": 152,
   "metadata": {},
   "outputs": [],
   "source": [
    "class Generator:\n",
    "    def __init__(self, func):\n",
    "        self.position = 0\n",
    "        \n",
    "        self.length = self.get_length()\n",
    "        \n",
    "    def __len__(self):\n",
    "        return self.length\n",
    "\n",
    "    def generate(self, func):\n",
    "        \n",
    "\n",
    "    def get_length(self):\n",
    "        self.length = 0\n",
    "        for i in self.generate():\n",
    "            self.length += 1\n",
    "        return self.length\n",
    "\n",
    "    def back(self):\n",
    "        gen = self.generate()\n",
    "        if self.position > 0:\n",
    "            self.position -= 1\n",
    "        elif self.position == 0:\n",
    "            self.position = self.length-1\n",
    "        for i in range(self.position):\n",
    "            next(gen)\n",
    "        self.current = next(gen)\n",
    "        return self.current\n",
    "        \n",
    "\n",
    "    def forward(self):\n",
    "        gen = self.generate()\n",
    "        if self.position < self.length:\n",
    "            self.position += 1\n",
    "        else:\n",
    "            self.position == 0\n",
    "\n",
    "        for i in range(self.position):\n",
    "            next(gen)\n",
    "        return next(gen)\n",
    "        \n",
    "\n",
    "\n",
    "        "
   ]
  },
  {
   "cell_type": "code",
   "execution_count": 153,
   "metadata": {},
   "outputs": [],
   "source": [
    "def generate(self):\n",
    "        for i in range(100):\n",
    "            yield i"
   ]
  },
  {
   "cell_type": "code",
   "execution_count": 154,
   "metadata": {},
   "outputs": [
    {
     "ename": "TypeError",
     "evalue": "generate() missing 1 required positional argument: 'self'",
     "output_type": "error",
     "traceback": [
      "\u001b[0;31m---------------------------------------------------------------------------\u001b[0m",
      "\u001b[0;31mTypeError\u001b[0m                                 Traceback (most recent call last)",
      "\u001b[1;32m/home/bedlavedlt/dev/python_code/replace_pics/k.ipynb Cell 3\u001b[0m in \u001b[0;36m<cell line: 1>\u001b[0;34m()\u001b[0m\n\u001b[0;32m----> <a href='vscode-notebook-cell://wsl%2Bubuntu/home/bedlavedlt/dev/python_code/replace_pics/k.ipynb#ch0000002vscode-remote?line=0'>1</a>\u001b[0m gen \u001b[39m=\u001b[39m Generator(generate)\n",
      "\u001b[1;32m/home/bedlavedlt/dev/python_code/replace_pics/k.ipynb Cell 3\u001b[0m in \u001b[0;36mGenerator.__init__\u001b[0;34m(self, func)\u001b[0m\n\u001b[1;32m      <a href='vscode-notebook-cell://wsl%2Bubuntu/home/bedlavedlt/dev/python_code/replace_pics/k.ipynb#ch0000002vscode-remote?line=2'>3</a>\u001b[0m \u001b[39mself\u001b[39m\u001b[39m.\u001b[39mposition \u001b[39m=\u001b[39m \u001b[39m0\u001b[39m\n\u001b[1;32m      <a href='vscode-notebook-cell://wsl%2Bubuntu/home/bedlavedlt/dev/python_code/replace_pics/k.ipynb#ch0000002vscode-remote?line=3'>4</a>\u001b[0m \u001b[39mself\u001b[39m\u001b[39m.\u001b[39mgenerate \u001b[39m=\u001b[39m func\n\u001b[0;32m----> <a href='vscode-notebook-cell://wsl%2Bubuntu/home/bedlavedlt/dev/python_code/replace_pics/k.ipynb#ch0000002vscode-remote?line=4'>5</a>\u001b[0m \u001b[39mself\u001b[39m\u001b[39m.\u001b[39mlength \u001b[39m=\u001b[39m \u001b[39mself\u001b[39;49m\u001b[39m.\u001b[39;49mget_length()\n",
      "\u001b[1;32m/home/bedlavedlt/dev/python_code/replace_pics/k.ipynb Cell 3\u001b[0m in \u001b[0;36mGenerator.get_length\u001b[0;34m(self)\u001b[0m\n\u001b[1;32m     <a href='vscode-notebook-cell://wsl%2Bubuntu/home/bedlavedlt/dev/python_code/replace_pics/k.ipynb#ch0000002vscode-remote?line=10'>11</a>\u001b[0m \u001b[39mdef\u001b[39;00m \u001b[39mget_length\u001b[39m(\u001b[39mself\u001b[39m):\n\u001b[1;32m     <a href='vscode-notebook-cell://wsl%2Bubuntu/home/bedlavedlt/dev/python_code/replace_pics/k.ipynb#ch0000002vscode-remote?line=11'>12</a>\u001b[0m     \u001b[39mself\u001b[39m\u001b[39m.\u001b[39mlength \u001b[39m=\u001b[39m \u001b[39m0\u001b[39m\n\u001b[0;32m---> <a href='vscode-notebook-cell://wsl%2Bubuntu/home/bedlavedlt/dev/python_code/replace_pics/k.ipynb#ch0000002vscode-remote?line=12'>13</a>\u001b[0m     \u001b[39mfor\u001b[39;00m i \u001b[39min\u001b[39;00m \u001b[39mself\u001b[39;49m\u001b[39m.\u001b[39;49mgenerate():\n\u001b[1;32m     <a href='vscode-notebook-cell://wsl%2Bubuntu/home/bedlavedlt/dev/python_code/replace_pics/k.ipynb#ch0000002vscode-remote?line=13'>14</a>\u001b[0m         \u001b[39mself\u001b[39m\u001b[39m.\u001b[39mlength \u001b[39m+\u001b[39m\u001b[39m=\u001b[39m \u001b[39m1\u001b[39m\n\u001b[1;32m     <a href='vscode-notebook-cell://wsl%2Bubuntu/home/bedlavedlt/dev/python_code/replace_pics/k.ipynb#ch0000002vscode-remote?line=14'>15</a>\u001b[0m     \u001b[39mreturn\u001b[39;00m \u001b[39mself\u001b[39m\u001b[39m.\u001b[39mlength\n",
      "\u001b[0;31mTypeError\u001b[0m: generate() missing 1 required positional argument: 'self'"
     ]
    }
   ],
   "source": [
    "gen = Generator(generate)"
   ]
  },
  {
   "cell_type": "code",
   "execution_count": 145,
   "metadata": {},
   "outputs": [
    {
     "data": {
      "text/plain": [
       "99"
      ]
     },
     "execution_count": 145,
     "metadata": {},
     "output_type": "execute_result"
    }
   ],
   "source": [
    "gen.forward()"
   ]
  },
  {
   "cell_type": "code",
   "execution_count": 141,
   "metadata": {},
   "outputs": [
    {
     "data": {
      "text/plain": [
       "97"
      ]
     },
     "execution_count": 141,
     "metadata": {},
     "output_type": "execute_result"
    }
   ],
   "source": [
    "gen.back()"
   ]
  },
  {
   "cell_type": "code",
   "execution_count": 138,
   "metadata": {},
   "outputs": [
    {
     "data": {
      "text/plain": [
       "100"
      ]
     },
     "execution_count": 138,
     "metadata": {},
     "output_type": "execute_result"
    }
   ],
   "source": [
    "len(gen)"
   ]
  },
  {
   "cell_type": "code",
   "execution_count": null,
   "metadata": {},
   "outputs": [],
   "source": []
  }
 ],
 "metadata": {
  "kernelspec": {
   "display_name": "Python 3.9.13 ('replace-pics-HjF0ok82-py3.9')",
   "language": "python",
   "name": "python3"
  },
  "language_info": {
   "codemirror_mode": {
    "name": "ipython",
    "version": 3
   },
   "file_extension": ".py",
   "mimetype": "text/x-python",
   "name": "python",
   "nbconvert_exporter": "python",
   "pygments_lexer": "ipython3",
   "version": "3.9.13"
  },
  "orig_nbformat": 4,
  "vscode": {
   "interpreter": {
    "hash": "1be7d64f5edd55bfa7f71f13fed88d3ba9b127ef9c2a7b9e6fd8dff13ed81530"
   }
  }
 },
 "nbformat": 4,
 "nbformat_minor": 2
}
